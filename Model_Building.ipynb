{
  "nbformat": 4,
  "nbformat_minor": 0,
  "metadata": {
    "colab": {
      "name": "Model Building.ipynb",
      "provenance": [],
      "toc_visible": true
    },
    "kernelspec": {
      "name": "python3",
      "display_name": "Python 3"
    },
    "accelerator": "GPU"
  },
  "cells": [
    {
      "cell_type": "code",
      "metadata": {
        "id": "Scd6qyw1M7jE"
      },
      "source": [
        "import pickle\r\n",
        "import numpy as np\r\n",
        "from keras.utils import np_utils"
      ],
      "execution_count": 1,
      "outputs": []
    },
    {
      "cell_type": "code",
      "metadata": {
        "id": "7rk3XyLBOQyR"
      },
      "source": [
        "with open(\"/content/notes\",'rb') as f:\r\n",
        "  notes = pickle.load(f)"
      ],
      "execution_count": 2,
      "outputs": []
    },
    {
      "cell_type": "code",
      "metadata": {
        "id": "Shz0vZAmOc-Q"
      },
      "source": [
        "n_vocab = len(set(notes))"
      ],
      "execution_count": 3,
      "outputs": []
    },
    {
      "cell_type": "code",
      "metadata": {
        "colab": {
          "base_uri": "https://localhost:8080/"
        },
        "id": "_ycxhdphOm57",
        "outputId": "988a6bcf-94b3-4327-9fba-3448c773d40c"
      },
      "source": [
        "print(\"Total notes: \",len(notes))\r\n",
        "print(\"Unique notes: \",n_vocab)"
      ],
      "execution_count": 4,
      "outputs": [
        {
          "output_type": "stream",
          "text": [
            "Total notes:  11358\n",
            "Unique notes:  197\n"
          ],
          "name": "stdout"
        }
      ]
    },
    {
      "cell_type": "markdown",
      "metadata": {
        "id": "tbcF19p2OrMb"
      },
      "source": [
        "## Prepare Sequential data for LSTM"
      ]
    },
    {
      "cell_type": "code",
      "metadata": {
        "id": "sCSm9C6DOpS3"
      },
      "source": [
        "#how many elements LSTM input should consider\r\n",
        "sequence_len = 100"
      ],
      "execution_count": 5,
      "outputs": []
    },
    {
      "cell_type": "code",
      "metadata": {
        "id": "0qLfwnVHOxG8"
      },
      "source": [
        "pitchnames = sorted(set(notes))"
      ],
      "execution_count": 6,
      "outputs": []
    },
    {
      "cell_type": "code",
      "metadata": {
        "id": "HmMlx13vOzGP"
      },
      "source": [
        "#mapping between ele to int value\r\n",
        "ele_to_int = dict((ele,num) for num,ele in enumerate(pitchnames))"
      ],
      "execution_count": 7,
      "outputs": []
    },
    {
      "cell_type": "code",
      "metadata": {
        "id": "WN0WHyosO2ZA"
      },
      "source": [
        "network_input = []\r\n",
        "network_output = []"
      ],
      "execution_count": 8,
      "outputs": []
    },
    {
      "cell_type": "code",
      "metadata": {
        "id": "dMbpPl0AO5XD"
      },
      "source": [
        "for i in range(len(notes) - sequence_len):\r\n",
        "    seq_in = notes[i:i+sequence_len]\r\n",
        "    seq_out = notes[i+sequence_len]\r\n",
        "    \r\n",
        "    network_input.append([ele_to_int[ch] for ch in seq_in])\r\n",
        "    network_output.append(ele_to_int[seq_out])"
      ],
      "execution_count": 9,
      "outputs": []
    },
    {
      "cell_type": "code",
      "metadata": {
        "colab": {
          "base_uri": "https://localhost:8080/"
        },
        "id": "J3I5bYtzO8px",
        "outputId": "70d36428-0b71-48de-af10-9fb844c31bc4"
      },
      "source": [
        "# No. of examples\r\n",
        "\r\n",
        "n_patterns = len(network_input)\r\n",
        "print(n_patterns)"
      ],
      "execution_count": 10,
      "outputs": [
        {
          "output_type": "stream",
          "text": [
            "11258\n"
          ],
          "name": "stdout"
        }
      ]
    },
    {
      "cell_type": "code",
      "metadata": {
        "id": "hyEzgYZVO-2M"
      },
      "source": [
        "network_input = np.reshape(network_input, (n_patterns, sequence_len,1))"
      ],
      "execution_count": 11,
      "outputs": []
    },
    {
      "cell_type": "code",
      "metadata": {
        "colab": {
          "base_uri": "https://localhost:8080/"
        },
        "id": "0yPf_rCrPE2A",
        "outputId": "2ee36f0d-c0e3-4afe-cf0f-2d98e51762ec"
      },
      "source": [
        "print(network_input.shape)"
      ],
      "execution_count": 12,
      "outputs": [
        {
          "output_type": "stream",
          "text": [
            "(11258, 100, 1)\n"
          ],
          "name": "stdout"
        }
      ]
    },
    {
      "cell_type": "code",
      "metadata": {
        "id": "vfPgwfqTPLeB"
      },
      "source": [
        "normalized_network_input = network_input/float(n_vocab)"
      ],
      "execution_count": 13,
      "outputs": []
    },
    {
      "cell_type": "code",
      "metadata": {
        "colab": {
          "base_uri": "https://localhost:8080/"
        },
        "id": "hSFvS5JePNI0",
        "outputId": "757631a9-2744-431a-bef2-db65da3c0e0f"
      },
      "source": [
        "normalized_network_input"
      ],
      "execution_count": 14,
      "outputs": [
        {
          "output_type": "execute_result",
          "data": {
            "text/plain": [
              "array([[[0.77664975],\n",
              "        [0.97461929],\n",
              "        [0.97969543],\n",
              "        ...,\n",
              "        [0.56852792],\n",
              "        [0.13705584],\n",
              "        [0.17766497]],\n",
              "\n",
              "       [[0.97461929],\n",
              "        [0.97969543],\n",
              "        [0.67005076],\n",
              "        ...,\n",
              "        [0.13705584],\n",
              "        [0.17766497],\n",
              "        [0.58375635]],\n",
              "\n",
              "       [[0.97969543],\n",
              "        [0.67005076],\n",
              "        [0.74619289],\n",
              "        ...,\n",
              "        [0.17766497],\n",
              "        [0.58375635],\n",
              "        [0.56852792]],\n",
              "\n",
              "       ...,\n",
              "\n",
              "       [[0.58375635],\n",
              "        [0.66497462],\n",
              "        [0.84263959],\n",
              "        ...,\n",
              "        [0.85786802],\n",
              "        [0.60406091],\n",
              "        [0.75126904]],\n",
              "\n",
              "       [[0.66497462],\n",
              "        [0.84263959],\n",
              "        [0.74111675],\n",
              "        ...,\n",
              "        [0.60406091],\n",
              "        [0.75126904],\n",
              "        [0.86294416]],\n",
              "\n",
              "       [[0.84263959],\n",
              "        [0.74111675],\n",
              "        [0.58883249],\n",
              "        ...,\n",
              "        [0.75126904],\n",
              "        [0.86294416],\n",
              "        [0.60913706]]])"
            ]
          },
          "metadata": {
            "tags": []
          },
          "execution_count": 14
        }
      ]
    },
    {
      "cell_type": "code",
      "metadata": {
        "id": "1ge1saxOPPhb"
      },
      "source": [
        "# Network output are the classes, encode into one hot vector"
      ],
      "execution_count": 15,
      "outputs": []
    },
    {
      "cell_type": "code",
      "metadata": {
        "id": "-_SsZOZ0PTpz"
      },
      "source": [
        "network_output = np_utils.to_categorical(network_output)"
      ],
      "execution_count": 16,
      "outputs": []
    },
    {
      "cell_type": "code",
      "metadata": {
        "colab": {
          "base_uri": "https://localhost:8080/"
        },
        "id": "WsklaR8oPVNK",
        "outputId": "f1f88228-e215-4d42-bedd-6907d1bf2165"
      },
      "source": [
        "network_output.shape"
      ],
      "execution_count": 17,
      "outputs": [
        {
          "output_type": "execute_result",
          "data": {
            "text/plain": [
              "(11258, 197)"
            ]
          },
          "metadata": {
            "tags": []
          },
          "execution_count": 17
        }
      ]
    },
    {
      "cell_type": "code",
      "metadata": {
        "colab": {
          "base_uri": "https://localhost:8080/"
        },
        "id": "U9OT2DssPW0c",
        "outputId": "97562b5f-2fde-4960-8411-279b9032c85d"
      },
      "source": [
        "print(\"Input data shape: \",normalized_network_input.shape)\r\n",
        "print(\"Output data shape: \",network_output.shape)"
      ],
      "execution_count": 18,
      "outputs": [
        {
          "output_type": "stream",
          "text": [
            "Input data shape:  (11258, 100, 1)\n",
            "Output data shape:  (11258, 197)\n"
          ],
          "name": "stdout"
        }
      ]
    },
    {
      "cell_type": "markdown",
      "metadata": {
        "id": "8eNln4vTPjtN"
      },
      "source": [
        "## Create Model"
      ]
    },
    {
      "cell_type": "code",
      "metadata": {
        "id": "A8l3r1fZPYjX"
      },
      "source": [
        "from keras.models import Sequential\r\n",
        "from keras.layers import *\r\n",
        "from keras.callbacks import ModelCheckpoint, EarlyStopping"
      ],
      "execution_count": 19,
      "outputs": []
    },
    {
      "cell_type": "code",
      "metadata": {
        "id": "5_1PXpqEP3Hv"
      },
      "source": [
        "model = Sequential()\r\n",
        "model.add(LSTM(units = 512,\r\n",
        "               input_shape = (normalized_network_input.shape[1],normalized_network_input.shape[2]),\r\n",
        "               return_sequences = True))\r\n",
        "model.add(Dropout(0.3))\r\n",
        "model.add(LSTM(512,return_sequences=True))\r\n",
        "model.add(Dropout(0.3))\r\n",
        "model.add(LSTM(512))\r\n",
        "model.add(Dense(256))\r\n",
        "model.add(Dropout(0.3))\r\n",
        "model.add(Dense(n_vocab,activation='softmax'))"
      ],
      "execution_count": 20,
      "outputs": []
    },
    {
      "cell_type": "code",
      "metadata": {
        "colab": {
          "base_uri": "https://localhost:8080/"
        },
        "id": "iPiDBn4sRHas",
        "outputId": "833332dd-beda-4c8d-87b2-ca226a22ff43"
      },
      "source": [
        "model.summary()"
      ],
      "execution_count": 21,
      "outputs": [
        {
          "output_type": "stream",
          "text": [
            "Model: \"sequential\"\n",
            "_________________________________________________________________\n",
            "Layer (type)                 Output Shape              Param #   \n",
            "=================================================================\n",
            "lstm (LSTM)                  (None, 100, 512)          1052672   \n",
            "_________________________________________________________________\n",
            "dropout (Dropout)            (None, 100, 512)          0         \n",
            "_________________________________________________________________\n",
            "lstm_1 (LSTM)                (None, 100, 512)          2099200   \n",
            "_________________________________________________________________\n",
            "dropout_1 (Dropout)          (None, 100, 512)          0         \n",
            "_________________________________________________________________\n",
            "lstm_2 (LSTM)                (None, 512)               2099200   \n",
            "_________________________________________________________________\n",
            "dense (Dense)                (None, 256)               131328    \n",
            "_________________________________________________________________\n",
            "dropout_2 (Dropout)          (None, 256)               0         \n",
            "_________________________________________________________________\n",
            "dense_1 (Dense)              (None, 197)               50629     \n",
            "=================================================================\n",
            "Total params: 5,433,029\n",
            "Trainable params: 5,433,029\n",
            "Non-trainable params: 0\n",
            "_________________________________________________________________\n"
          ],
          "name": "stdout"
        }
      ]
    },
    {
      "cell_type": "code",
      "metadata": {
        "id": "-ENPS_ZIRQI3"
      },
      "source": [
        "model.compile(loss = 'categorical_crossentropy',optimizer = 'adam')"
      ],
      "execution_count": 22,
      "outputs": []
    },
    {
      "cell_type": "code",
      "metadata": {
        "colab": {
          "base_uri": "https://localhost:8080/"
        },
        "id": "qQJ9tc5ARjVl",
        "outputId": "e5bb7cea-3d68-46a5-c13a-dc5841442f75"
      },
      "source": [
        "checkpoint = ModelCheckpoint('model.hdf5',monitor = 'loss',verbose=0,save_best_only=True,mode = 'min')\r\n",
        "model_his = model.fit(normalized_network_input,network_output,epochs = 100,batch_size = 64, callbacks = [checkpoint])"
      ],
      "execution_count": 23,
      "outputs": [
        {
          "output_type": "stream",
          "text": [
            "Epoch 1/100\n",
            "176/176 [==============================] - 23s 74ms/step - loss: 4.7026\n",
            "Epoch 2/100\n",
            "176/176 [==============================] - 13s 75ms/step - loss: 4.4965\n",
            "Epoch 3/100\n",
            "176/176 [==============================] - 13s 76ms/step - loss: 4.4936\n",
            "Epoch 4/100\n",
            "176/176 [==============================] - 14s 77ms/step - loss: 4.4409\n",
            "Epoch 5/100\n",
            "176/176 [==============================] - 14s 78ms/step - loss: 4.4069\n",
            "Epoch 6/100\n",
            "176/176 [==============================] - 14s 80ms/step - loss: 4.3868\n",
            "Epoch 7/100\n",
            "176/176 [==============================] - 14s 81ms/step - loss: 4.3652\n",
            "Epoch 8/100\n",
            "176/176 [==============================] - 14s 82ms/step - loss: 4.3342\n",
            "Epoch 9/100\n",
            "176/176 [==============================] - 14s 81ms/step - loss: 4.3301\n",
            "Epoch 10/100\n",
            "176/176 [==============================] - 14s 81ms/step - loss: 4.3101\n",
            "Epoch 11/100\n",
            "176/176 [==============================] - 14s 80ms/step - loss: 4.2963\n",
            "Epoch 12/100\n",
            "176/176 [==============================] - 14s 81ms/step - loss: 4.3125\n",
            "Epoch 13/100\n",
            "176/176 [==============================] - 14s 81ms/step - loss: 4.2502\n",
            "Epoch 14/100\n",
            "176/176 [==============================] - 14s 81ms/step - loss: 4.2184\n",
            "Epoch 15/100\n",
            "176/176 [==============================] - 14s 81ms/step - loss: 4.1892\n",
            "Epoch 16/100\n",
            "176/176 [==============================] - 14s 81ms/step - loss: 4.1161\n",
            "Epoch 17/100\n",
            "176/176 [==============================] - 14s 81ms/step - loss: 4.0155\n",
            "Epoch 18/100\n",
            "176/176 [==============================] - 14s 81ms/step - loss: 3.9273\n",
            "Epoch 19/100\n",
            "176/176 [==============================] - 14s 81ms/step - loss: 3.7856\n",
            "Epoch 20/100\n",
            "176/176 [==============================] - 14s 81ms/step - loss: 3.6295\n",
            "Epoch 21/100\n",
            "176/176 [==============================] - 14s 81ms/step - loss: 3.4601\n",
            "Epoch 22/100\n",
            "176/176 [==============================] - 14s 81ms/step - loss: 3.2945\n",
            "Epoch 23/100\n",
            "176/176 [==============================] - 14s 81ms/step - loss: 3.1033\n",
            "Epoch 24/100\n",
            "176/176 [==============================] - 14s 81ms/step - loss: 2.8834\n",
            "Epoch 25/100\n",
            "176/176 [==============================] - 14s 81ms/step - loss: 2.7113\n",
            "Epoch 26/100\n",
            "176/176 [==============================] - 14s 81ms/step - loss: 2.4960\n",
            "Epoch 27/100\n",
            "176/176 [==============================] - 14s 81ms/step - loss: 2.2541\n",
            "Epoch 28/100\n",
            "176/176 [==============================] - 14s 81ms/step - loss: 2.0793\n",
            "Epoch 29/100\n",
            "176/176 [==============================] - 14s 81ms/step - loss: 1.8031\n",
            "Epoch 30/100\n",
            "176/176 [==============================] - 14s 81ms/step - loss: 1.6216\n",
            "Epoch 31/100\n",
            "176/176 [==============================] - 14s 81ms/step - loss: 1.4401\n",
            "Epoch 32/100\n",
            "176/176 [==============================] - 14s 81ms/step - loss: 1.2106\n",
            "Epoch 33/100\n",
            "176/176 [==============================] - 14s 81ms/step - loss: 1.0351\n",
            "Epoch 34/100\n",
            "176/176 [==============================] - 14s 81ms/step - loss: 0.8977\n",
            "Epoch 35/100\n",
            "176/176 [==============================] - 14s 81ms/step - loss: 0.7416\n",
            "Epoch 36/100\n",
            "176/176 [==============================] - 14s 81ms/step - loss: 0.6293\n",
            "Epoch 37/100\n",
            "176/176 [==============================] - 14s 81ms/step - loss: 0.5299\n",
            "Epoch 38/100\n",
            "176/176 [==============================] - 14s 81ms/step - loss: 0.4524\n",
            "Epoch 39/100\n",
            "176/176 [==============================] - 14s 81ms/step - loss: 0.3690\n",
            "Epoch 40/100\n",
            "176/176 [==============================] - 14s 81ms/step - loss: 0.2983\n",
            "Epoch 41/100\n",
            "176/176 [==============================] - 14s 81ms/step - loss: 0.2604\n",
            "Epoch 42/100\n",
            "176/176 [==============================] - 14s 81ms/step - loss: 0.2293\n",
            "Epoch 43/100\n",
            "176/176 [==============================] - 14s 81ms/step - loss: 0.2096\n",
            "Epoch 44/100\n",
            "176/176 [==============================] - 14s 81ms/step - loss: 0.1848\n",
            "Epoch 45/100\n",
            "176/176 [==============================] - 14s 81ms/step - loss: 0.1599\n",
            "Epoch 46/100\n",
            "176/176 [==============================] - 14s 81ms/step - loss: 0.1472\n",
            "Epoch 47/100\n",
            "176/176 [==============================] - 14s 81ms/step - loss: 0.1406\n",
            "Epoch 48/100\n",
            "176/176 [==============================] - 14s 81ms/step - loss: 0.1495\n",
            "Epoch 49/100\n",
            "176/176 [==============================] - 14s 81ms/step - loss: 0.1156\n",
            "Epoch 50/100\n",
            "176/176 [==============================] - 14s 81ms/step - loss: 0.1007\n",
            "Epoch 51/100\n",
            "176/176 [==============================] - 14s 81ms/step - loss: 0.0784\n",
            "Epoch 52/100\n",
            "176/176 [==============================] - 14s 81ms/step - loss: 0.1114\n",
            "Epoch 53/100\n",
            "176/176 [==============================] - 14s 81ms/step - loss: 0.1433\n",
            "Epoch 54/100\n",
            "176/176 [==============================] - 14s 81ms/step - loss: 0.1326\n",
            "Epoch 55/100\n",
            "176/176 [==============================] - 14s 81ms/step - loss: 0.1215\n",
            "Epoch 56/100\n",
            "176/176 [==============================] - 14s 81ms/step - loss: 0.1419\n",
            "Epoch 57/100\n",
            "176/176 [==============================] - 14s 81ms/step - loss: 0.1124\n",
            "Epoch 58/100\n",
            "176/176 [==============================] - 14s 81ms/step - loss: 0.0860\n",
            "Epoch 59/100\n",
            "176/176 [==============================] - 14s 81ms/step - loss: 0.0712\n",
            "Epoch 60/100\n",
            "176/176 [==============================] - 14s 81ms/step - loss: 0.0794\n",
            "Epoch 61/100\n",
            "176/176 [==============================] - 14s 81ms/step - loss: 0.1074\n",
            "Epoch 62/100\n",
            "176/176 [==============================] - 14s 81ms/step - loss: 0.0530\n",
            "Epoch 63/100\n",
            "176/176 [==============================] - 14s 81ms/step - loss: 0.0758\n",
            "Epoch 64/100\n",
            "176/176 [==============================] - 14s 81ms/step - loss: 0.0808\n",
            "Epoch 65/100\n",
            "176/176 [==============================] - 14s 81ms/step - loss: 0.0855\n",
            "Epoch 66/100\n",
            "176/176 [==============================] - 14s 81ms/step - loss: 0.0685\n",
            "Epoch 67/100\n",
            "176/176 [==============================] - 14s 81ms/step - loss: 0.1603\n",
            "Epoch 68/100\n",
            "176/176 [==============================] - 14s 81ms/step - loss: 0.1651\n",
            "Epoch 69/100\n",
            "176/176 [==============================] - 14s 81ms/step - loss: 0.0807\n",
            "Epoch 70/100\n",
            "176/176 [==============================] - 14s 81ms/step - loss: 0.0475\n",
            "Epoch 71/100\n",
            "176/176 [==============================] - 14s 81ms/step - loss: 0.0306\n",
            "Epoch 72/100\n",
            "176/176 [==============================] - 14s 81ms/step - loss: 0.0284\n",
            "Epoch 73/100\n",
            "176/176 [==============================] - 14s 81ms/step - loss: 0.0237\n",
            "Epoch 74/100\n",
            "176/176 [==============================] - 14s 81ms/step - loss: 0.0332\n",
            "Epoch 75/100\n",
            "176/176 [==============================] - 14s 81ms/step - loss: 0.0512\n",
            "Epoch 76/100\n",
            "176/176 [==============================] - 14s 81ms/step - loss: 0.1033\n",
            "Epoch 77/100\n",
            "176/176 [==============================] - 14s 81ms/step - loss: 0.3315\n",
            "Epoch 78/100\n",
            "176/176 [==============================] - 14s 81ms/step - loss: 0.1135\n",
            "Epoch 79/100\n",
            "176/176 [==============================] - 14s 81ms/step - loss: 0.0509\n",
            "Epoch 80/100\n",
            "176/176 [==============================] - 14s 81ms/step - loss: 0.0304\n",
            "Epoch 81/100\n",
            "176/176 [==============================] - 14s 81ms/step - loss: 0.0206\n",
            "Epoch 82/100\n",
            "176/176 [==============================] - 14s 81ms/step - loss: 0.0197\n",
            "Epoch 83/100\n",
            "176/176 [==============================] - 14s 81ms/step - loss: 0.0188\n",
            "Epoch 84/100\n",
            "176/176 [==============================] - 14s 81ms/step - loss: 0.0226\n",
            "Epoch 85/100\n",
            "176/176 [==============================] - 14s 81ms/step - loss: 0.0189\n",
            "Epoch 86/100\n",
            "176/176 [==============================] - 14s 81ms/step - loss: 0.0270\n",
            "Epoch 87/100\n",
            "176/176 [==============================] - 14s 81ms/step - loss: 0.0253\n",
            "Epoch 88/100\n",
            "176/176 [==============================] - 14s 81ms/step - loss: 0.0405\n",
            "Epoch 89/100\n",
            "176/176 [==============================] - 14s 81ms/step - loss: 0.4776\n",
            "Epoch 90/100\n",
            "176/176 [==============================] - 14s 81ms/step - loss: 0.1747\n",
            "Epoch 91/100\n",
            "176/176 [==============================] - 14s 81ms/step - loss: 0.0584\n",
            "Epoch 92/100\n",
            "176/176 [==============================] - 14s 81ms/step - loss: 0.0333\n",
            "Epoch 93/100\n",
            "176/176 [==============================] - 14s 81ms/step - loss: 0.0218\n",
            "Epoch 94/100\n",
            "176/176 [==============================] - 14s 81ms/step - loss: 0.0169\n",
            "Epoch 95/100\n",
            "176/176 [==============================] - 14s 81ms/step - loss: 0.0191\n",
            "Epoch 96/100\n",
            "176/176 [==============================] - 14s 81ms/step - loss: 0.0182\n",
            "Epoch 97/100\n",
            "176/176 [==============================] - 14s 81ms/step - loss: 0.0192\n",
            "Epoch 98/100\n",
            "176/176 [==============================] - 14s 81ms/step - loss: 0.0133\n",
            "Epoch 99/100\n",
            "176/176 [==============================] - 14s 81ms/step - loss: 0.0233\n",
            "Epoch 100/100\n",
            "176/176 [==============================] - 14s 81ms/step - loss: 0.0221\n"
          ],
          "name": "stdout"
        }
      ]
    },
    {
      "cell_type": "code",
      "metadata": {
        "id": "-6g22Shub_lh"
      },
      "source": [
        "from google.colab import files"
      ],
      "execution_count": 24,
      "outputs": []
    },
    {
      "cell_type": "code",
      "metadata": {
        "id": "l-1wkmXWcD5a",
        "colab": {
          "base_uri": "https://localhost:8080/",
          "height": 17
        },
        "outputId": "abc4b73c-64e6-43de-d2af-350156ab92ed"
      },
      "source": [
        "files.download('/content/model.hdf5')"
      ],
      "execution_count": 25,
      "outputs": [
        {
          "output_type": "display_data",
          "data": {
            "application/javascript": [
              "\n",
              "    async function download(id, filename, size) {\n",
              "      if (!google.colab.kernel.accessAllowed) {\n",
              "        return;\n",
              "      }\n",
              "      const div = document.createElement('div');\n",
              "      const label = document.createElement('label');\n",
              "      label.textContent = `Downloading \"${filename}\": `;\n",
              "      div.appendChild(label);\n",
              "      const progress = document.createElement('progress');\n",
              "      progress.max = size;\n",
              "      div.appendChild(progress);\n",
              "      document.body.appendChild(div);\n",
              "\n",
              "      const buffers = [];\n",
              "      let downloaded = 0;\n",
              "\n",
              "      const channel = await google.colab.kernel.comms.open(id);\n",
              "      // Send a message to notify the kernel that we're ready.\n",
              "      channel.send({})\n",
              "\n",
              "      for await (const message of channel.messages) {\n",
              "        // Send a message to notify the kernel that we're ready.\n",
              "        channel.send({})\n",
              "        if (message.buffers) {\n",
              "          for (const buffer of message.buffers) {\n",
              "            buffers.push(buffer);\n",
              "            downloaded += buffer.byteLength;\n",
              "            progress.value = downloaded;\n",
              "          }\n",
              "        }\n",
              "      }\n",
              "      const blob = new Blob(buffers, {type: 'application/binary'});\n",
              "      const a = document.createElement('a');\n",
              "      a.href = window.URL.createObjectURL(blob);\n",
              "      a.download = filename;\n",
              "      div.appendChild(a);\n",
              "      a.click();\n",
              "      div.remove();\n",
              "    }\n",
              "  "
            ],
            "text/plain": [
              "<IPython.core.display.Javascript object>"
            ]
          },
          "metadata": {
            "tags": []
          }
        },
        {
          "output_type": "display_data",
          "data": {
            "application/javascript": [
              "download(\"download_ba959567-8625-429e-bcb5-a208787ba73d\", \"model.hdf5\", 65262324)"
            ],
            "text/plain": [
              "<IPython.core.display.Javascript object>"
            ]
          },
          "metadata": {
            "tags": []
          }
        }
      ]
    },
    {
      "cell_type": "code",
      "metadata": {
        "id": "opB05vngMdEF"
      },
      "source": [
        ""
      ],
      "execution_count": null,
      "outputs": []
    }
  ]
}